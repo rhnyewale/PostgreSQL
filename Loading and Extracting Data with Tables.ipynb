{
 "cells": [
  {
   "cell_type": "markdown",
   "metadata": {},
   "source": [
    "We have been mostly concerned with the different datatypes and their impact on performance when querying tables. In this lesson, we will evaluate the performance on loading and extracting data to and from Postgres tables.\n",
    "\n",
    "We will continue to work on the IGN reviews dataset that contains reviews from games. This dataset is stored in the ign.csv file. This file was modified to match the table that we created before — the last three columns representing the release date have been merged into one. As a refresher, here are the first few rows:\n",
    "\n",
    "So far, we have learned how to insert data into tables using the INSERT SQL command together with the cursor.execute() method. Using this statement, we showed that it is better to use it with %s placeholders rather than string formatting.\n",
    "\n",
    "When placeholders are used in the cursor.execute() method, Python types are automatically and safely converted into Postgres types. The conversion takes place in a separate step using a method from the cursor object called **cursor.mogrify()**.\n",
    "\n",
    "The following diagram illustrates how when you call the execute method, this method will use the mogrify method to replace the values into the given query string:"
   ]
  }
 ],
 "metadata": {
  "kernelspec": {
   "display_name": "Python 3",
   "language": "python",
   "name": "python3"
  },
  "language_info": {
   "codemirror_mode": {
    "name": "ipython",
    "version": 3
   },
   "file_extension": ".py",
   "mimetype": "text/x-python",
   "name": "python",
   "nbconvert_exporter": "python",
   "pygments_lexer": "ipython3",
   "version": "3.7.6"
  },
  "toc": {
   "base_numbering": 1,
   "nav_menu": {},
   "number_sections": true,
   "sideBar": true,
   "skip_h1_title": false,
   "title_cell": "Table of Contents",
   "title_sidebar": "Contents",
   "toc_cell": false,
   "toc_position": {},
   "toc_section_display": true,
   "toc_window_display": false
  }
 },
 "nbformat": 4,
 "nbformat_minor": 4
}
